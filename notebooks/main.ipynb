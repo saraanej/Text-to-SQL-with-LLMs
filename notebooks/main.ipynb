{
 "cells": [
  {
   "cell_type": "markdown",
   "metadata": {},
   "source": [
    "# Text-to-SQL LLM"
   ]
  },
  {
   "cell_type": "code",
   "execution_count": 1,
   "metadata": {},
   "outputs": [],
   "source": [
    "import sys\n",
    "sys.path.append('../src')\n",
    "\n",
    "from text_to_sql import load_model, build_prompt, generate_sql\n",
    "from sql_runner import run_query, chinook_schema, db_path"
   ]
  },
  {
   "cell_type": "code",
   "execution_count": 2,
   "metadata": {},
   "outputs": [],
   "source": [
    "# Load the model\n",
    "tokenizer, model = load_model()"
   ]
  },
  {
   "cell_type": "code",
   "execution_count": 9,
   "metadata": {},
   "outputs": [],
   "source": [
    "# Example question\n",
    "question = \"What are the names of all the employees ?\"\n",
    "question = \"What are the names of all playlists?\"\n"
   ]
  },
  {
   "cell_type": "code",
   "execution_count": 10,
   "metadata": {},
   "outputs": [
    {
     "name": "stdout",
     "output_type": "stream",
     "text": [
      "📝 Input Text:\n",
      "What are the names of all playlists? | chinook | album : AlbumId (PK), Title, ArtistId (FK → Artist.ArtistId) | artist : ArtistId (PK), Name | customer : CustomerId (PK), FirstName, LastName, Company, Address, City, State, Country, PostalCode, Phone, Fax, Email, SupportRepId (FK → Employee.EmployeeId) | employee : EmployeeId (PK), LastName, FirstName, Title, ReportsTo (FK → Employee.EmployeeId), BirthDate, HireDate, Address, City, State, Country, PostalCode, Phone, Fax, Email | genre : GenreId (PK), Name | invoice : InvoiceId (PK), CustomerId (FK → Customer.CustomerId), InvoiceDate, BillingAddress, BillingCity, BillingState, BillingCountry, BillingPostalCode, Total | invoiceline : InvoiceLineId (PK), InvoiceId (FK → Invoice.InvoiceId), TrackId (FK → Track.TrackId), UnitPrice, Quantity | mediatype : MediaTypeId (PK), Name | playlist : PlaylistId (PK), Name | playlisttrack : PlaylistId (PK), TrackId (PK), PlaylistId (FK → Playlist.PlaylistId), TrackId (FK → Track.TrackId) | track : TrackId (PK), Name, AlbumId (FK → Album.AlbumId), MediaTypeId (FK → MediaType.MediaTypeId), GenreId (FK → Genre.GenreId), Composer, Milliseconds, Bytes, UnitPrice\n",
      "\n",
      "🧠 Generated SQL:\n",
      "SELECT name\n",
      "FROM playlist\n"
     ]
    }
   ],
   "source": [
    "input_text = build_prompt(question, \"chinook\", chinook_schema)\n",
    "print(\"📝 Input Text:\")\n",
    "print(input_text)\n",
    "\n",
    "\n",
    "sql = generate_sql(tokenizer, model, input_text)\n",
    "print(\"\\n🧠 Generated SQL:\")\n",
    "print(sql)"
   ]
  },
  {
   "cell_type": "code",
   "execution_count": 11,
   "metadata": {},
   "outputs": [
    {
     "name": "stdout",
     "output_type": "stream",
     "text": [
      "\n",
      "📊 Query Results (as DataFrame):\n"
     ]
    },
    {
     "data": {
      "text/html": [
       "<div>\n",
       "<style scoped>\n",
       "    .dataframe tbody tr th:only-of-type {\n",
       "        vertical-align: middle;\n",
       "    }\n",
       "\n",
       "    .dataframe tbody tr th {\n",
       "        vertical-align: top;\n",
       "    }\n",
       "\n",
       "    .dataframe thead th {\n",
       "        text-align: right;\n",
       "    }\n",
       "</style>\n",
       "<table border=\"1\" class=\"dataframe\">\n",
       "  <thead>\n",
       "    <tr style=\"text-align: right;\">\n",
       "      <th></th>\n",
       "      <th>Name</th>\n",
       "    </tr>\n",
       "  </thead>\n",
       "  <tbody>\n",
       "    <tr>\n",
       "      <th>0</th>\n",
       "      <td>Music</td>\n",
       "    </tr>\n",
       "    <tr>\n",
       "      <th>1</th>\n",
       "      <td>Movies</td>\n",
       "    </tr>\n",
       "    <tr>\n",
       "      <th>2</th>\n",
       "      <td>TV Shows</td>\n",
       "    </tr>\n",
       "    <tr>\n",
       "      <th>3</th>\n",
       "      <td>Audiobooks</td>\n",
       "    </tr>\n",
       "    <tr>\n",
       "      <th>4</th>\n",
       "      <td>90’s Music</td>\n",
       "    </tr>\n",
       "    <tr>\n",
       "      <th>5</th>\n",
       "      <td>Audiobooks</td>\n",
       "    </tr>\n",
       "    <tr>\n",
       "      <th>6</th>\n",
       "      <td>Movies</td>\n",
       "    </tr>\n",
       "    <tr>\n",
       "      <th>7</th>\n",
       "      <td>Music</td>\n",
       "    </tr>\n",
       "    <tr>\n",
       "      <th>8</th>\n",
       "      <td>Music Videos</td>\n",
       "    </tr>\n",
       "    <tr>\n",
       "      <th>9</th>\n",
       "      <td>TV Shows</td>\n",
       "    </tr>\n",
       "    <tr>\n",
       "      <th>10</th>\n",
       "      <td>Brazilian Music</td>\n",
       "    </tr>\n",
       "    <tr>\n",
       "      <th>11</th>\n",
       "      <td>Classical</td>\n",
       "    </tr>\n",
       "    <tr>\n",
       "      <th>12</th>\n",
       "      <td>Classical 101 - Deep Cuts</td>\n",
       "    </tr>\n",
       "    <tr>\n",
       "      <th>13</th>\n",
       "      <td>Classical 101 - Next Steps</td>\n",
       "    </tr>\n",
       "    <tr>\n",
       "      <th>14</th>\n",
       "      <td>Classical 101 - The Basics</td>\n",
       "    </tr>\n",
       "    <tr>\n",
       "      <th>15</th>\n",
       "      <td>Grunge</td>\n",
       "    </tr>\n",
       "    <tr>\n",
       "      <th>16</th>\n",
       "      <td>Heavy Metal Classic</td>\n",
       "    </tr>\n",
       "    <tr>\n",
       "      <th>17</th>\n",
       "      <td>On-The-Go 1</td>\n",
       "    </tr>\n",
       "  </tbody>\n",
       "</table>\n",
       "</div>"
      ],
      "text/plain": [
       "                          Name\n",
       "0                        Music\n",
       "1                       Movies\n",
       "2                     TV Shows\n",
       "3                   Audiobooks\n",
       "4                   90’s Music\n",
       "5                   Audiobooks\n",
       "6                       Movies\n",
       "7                        Music\n",
       "8                 Music Videos\n",
       "9                     TV Shows\n",
       "10             Brazilian Music\n",
       "11                   Classical\n",
       "12   Classical 101 - Deep Cuts\n",
       "13  Classical 101 - Next Steps\n",
       "14  Classical 101 - The Basics\n",
       "15                      Grunge\n",
       "16         Heavy Metal Classic\n",
       "17                 On-The-Go 1"
      ]
     },
     "execution_count": 11,
     "metadata": {},
     "output_type": "execute_result"
    }
   ],
   "source": [
    "run_query(db_path, sql)"
   ]
  },
  {
   "cell_type": "code",
   "execution_count": null,
   "metadata": {},
   "outputs": [],
   "source": []
  }
 ],
 "metadata": {
  "kernelspec": {
   "display_name": "base",
   "language": "python",
   "name": "python3"
  },
  "language_info": {
   "codemirror_mode": {
    "name": "ipython",
    "version": 3
   },
   "file_extension": ".py",
   "mimetype": "text/x-python",
   "name": "python",
   "nbconvert_exporter": "python",
   "pygments_lexer": "ipython3",
   "version": "3.12.3"
  }
 },
 "nbformat": 4,
 "nbformat_minor": 2
}
